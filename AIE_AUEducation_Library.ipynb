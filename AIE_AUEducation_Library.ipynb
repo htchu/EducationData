{
  "nbformat": 4,
  "nbformat_minor": 0,
  "metadata": {
    "colab": {
      "provenance": []
    },
    "kernelspec": {
      "name": "python3",
      "display_name": "Python 3"
    },
    "language_info": {
      "name": "python"
    },
    "accelerator": "GPU",
    "gpuClass": "standard"
  },
  "cells": [
    {
      "cell_type": "markdown",
      "source": [
        "<img src=\"https://aidea-web.tw/images/web/logo_white.png\" alt=\"AIdea\" border=\"0\">\n",
        "\n",
        "# AIE-圖書館資源對學習成效之影響預測\n",
        "\n",
        "本議題以亞洲大學 100-107 學年度學生的修課資訊與排名資訊、圖書館借閱紀錄、圖書館進出館紀錄作為資料集，預測學生 107 學年度第二學期 (相較於第一學期) 的個人排名進退步幅度，期望參賽者透過 AI 技術找出圖書館資源的利用程度與學習成效間的關係。\n",
        "\n",
        "https://aidea-web.tw/topic/bcbbb758-3034-4ad4-8648-af9c45ea1137\n"
      ],
      "metadata": {
        "id": "fokLKlNHakyI"
      }
    },
    {
      "cell_type": "markdown",
      "source": [
        "## 圖書館資料\n",
        "\n",
        "If the following command does not work, please download it, put it on your Google drive, and set up sharing\n",
        "\n",
        "Download from:\n",
        "https://drive.google.com/file/d/1-M0SXaDdlMkVWT0jN8NxuE7Gv0jUQ3c3/view?usp=share_link"
      ],
      "metadata": {
        "id": "pxwwYr4wfKbK"
      }
    },
    {
      "cell_type": "code",
      "source": [
        "%%bash\n",
        "pip install --upgrade gdown\n",
        "gdown https://drive.google.com/uc?id=1-M0SXaDdlMkVWT0jN8NxuE7Gv0jUQ3c3\n",
        "unzip au_library.zip\n",
        "rm au_library.zip"
      ],
      "metadata": {
        "id": "MwtjPzWxljth"
      },
      "execution_count": null,
      "outputs": []
    },
    {
      "cell_type": "code",
      "source": [
        "%cd au_library\n",
        "%ls"
      ],
      "metadata": {
        "id": "Nrn0eKVFdLEd"
      },
      "execution_count": null,
      "outputs": []
    },
    {
      "cell_type": "markdown",
      "source": [
        "## 圖書借閱紀錄\n",
        "\n",
        "圖書借閱紀錄，共 332,825 筆\n"
      ],
      "metadata": {
        "id": "Mfl6pqTCn46Z"
      }
    },
    {
      "cell_type": "code",
      "source": [
        "import pandas as pd\n",
        "df_borrow = pd.read_csv('borrowing_record.csv')\n",
        "df_borrow.head()"
      ],
      "metadata": {
        "id": "i1ViJUB2n7Ol"
      },
      "execution_count": null,
      "outputs": []
    },
    {
      "cell_type": "markdown",
      "source": [
        "## 學生修課資料\n",
        "\n",
        "100-107 學年學生修課資料，共 762,015 筆\n"
      ],
      "metadata": {
        "id": "7InLS4imoLLB"
      }
    },
    {
      "cell_type": "code",
      "source": [
        "import pandas as pd\n",
        "df_course = pd.read_csv('course_train.csv')\n",
        "df_course.head()"
      ],
      "metadata": {
        "id": "TrVBi9e3oX_F"
      },
      "execution_count": null,
      "outputs": []
    },
    {
      "cell_type": "markdown",
      "source": [
        "## 學生圖書館的進出次數"
      ],
      "metadata": {
        "id": "kB7X3mAUoz5V"
      }
    },
    {
      "cell_type": "code",
      "source": [
        "import pandas as pd\n",
        "df_io = pd.read_csv('library_in_and_out_record.csv')\n",
        "df_io.head()"
      ],
      "metadata": {
        "id": "zT60-O2ro3wy"
      },
      "execution_count": null,
      "outputs": []
    },
    {
      "cell_type": "markdown",
      "source": [
        "## 學生概化排名"
      ],
      "metadata": {
        "id": "n43uP4PkpB3z"
      }
    },
    {
      "cell_type": "code",
      "source": [
        "import pandas as pd\n",
        "df_rank = pd.read_csv('rank_train.csv')\n",
        "df_rank.head()"
      ],
      "metadata": {
        "id": "RlZRg4VEpKDd"
      },
      "execution_count": null,
      "outputs": []
    },
    {
      "cell_type": "markdown",
      "source": [
        "## 學生概化預測"
      ],
      "metadata": {
        "id": "liysuWIapdNi"
      }
    },
    {
      "cell_type": "code",
      "source": [
        "import pandas as pd\n",
        "df_submit = pd.read_csv('submit.csv')\n",
        "df_submit.head()"
      ],
      "metadata": {
        "id": "LGkD-9x9phsB"
      },
      "execution_count": null,
      "outputs": []
    }
  ]
}